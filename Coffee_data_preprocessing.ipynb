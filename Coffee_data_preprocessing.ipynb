{
 "cells": [
  {
   "cell_type": "markdown",
   "id": "73132fdf",
   "metadata": {},
   "source": [
    "#  導入資料"
   ]
  },
  {
   "cell_type": "code",
   "execution_count": 13,
   "id": "474240db",
   "metadata": {},
   "outputs": [],
   "source": [
    "import pandas as pd \n",
    "import numpy as np\n",
    "robusta=pd.read_csv('robusta_data_cleaned.csv')\n",
    "arabica=pd.read_csv('arabica_data_cleaned.csv')"
   ]
  },
  {
   "cell_type": "markdown",
   "id": "8acc0668",
   "metadata": {},
   "source": [
    "#  資料合併"
   ]
  },
  {
   "cell_type": "code",
   "execution_count": 14,
   "id": "1fb4975f",
   "metadata": {},
   "outputs": [],
   "source": [
    "#統一欄名稱\n",
    "arabica.rename(columns={'Unnamed: 0':'id'},inplace=True)\n",
    "robusta.rename(columns={'Unnamed: 0':'id','Fragrance...Aroma':'Aroma',\\\n",
    "                     'Salt...Acid':'Acidity','Bitter...Sweet':'Sweetness','Mouthfeel':'Body','Uniform.Cup':'Uniformity'}, inplace=True)\n",
    "#更正arabica的id\n",
    "arabica.loc[1310,'id']=1311\n",
    "\n",
    "#robusta ID接續arabica\n",
    "robusta.id=robusta.id.map(lambda x:x+1311)\n",
    "\n",
    "#串接arabica、robusta；修改index\n",
    "data=pd.concat([arabica,robusta],join='inner')\n",
    "data.reset_index(inplace=True, drop=True)"
   ]
  },
  {
   "cell_type": "markdown",
   "id": "1b93153e",
   "metadata": {},
   "source": [
    "#  資料處理"
   ]
  },
  {
   "cell_type": "code",
   "execution_count": 15,
   "id": "18444449",
   "metadata": {
    "scrolled": true
   },
   "outputs": [],
   "source": [
    "#尋找遺失值欄位\n",
    "cols_with_missing_value=[col for col in data.columns if data[col].isnull().any()]\n",
    "#print('cols_with_missing_value:\\n',cols_with_missing_value,'\\n')\n",
    "\n",
    "#更正Country.of.Origin名稱、處理缺失值\n",
    "data['Country.of.Origin'].replace('Cote d?Ivoire','Cote d\\'Ivoire',inplace=True)\n",
    "data['Country.of.Origin'].fillna('Other',inplace=True)\n",
    "#print('country:\\n',data['Country.of.Origin'].unique(),'\\n')\n",
    "\n",
    "#處理Color遺失值、未知值\n",
    "data.Color.replace('None','Unknown',inplace=True)\n",
    "data['Color'].fillna('Unknown',inplace=True)\n",
    "\n",
    "#處理'Owner','Farm.Name','Mill','Company','Region','Producer','Owner.1','Variety','Processing.Method'遺失值\n",
    "cols_values_unknown=['Owner','Farm.Name','Mill','Company','Region','Producer','Owner.1','Variety','Processing.Method']\n",
    "data.fillna({col:'Unknown' for col in cols_values_unknown},inplace=True)\n",
    "\n",
    "#處理'Lot.Number','ICO.Number'遺失值\n",
    "data.fillna({'Lot.Number':'None','ICO.Number':'None'},inplace=True)\n",
    "\n",
    "\n",
    "#根據Grading.Date處理Harvest.Year遺失值\n",
    "data.loc[961,'Harvest.Year']=2017\n",
    "update_Harvest_Year=data[data['Harvest.Year'].isnull()]['Grading.Date'].map(lambda x: x[-4:])\n",
    "data.loc[data['Harvest.Year'].isnull(),'Harvest.Year']=update_Harvest_Year\n",
    "data['Harvest.Year']=data['Harvest.Year'].map(lambda a:str(a)[-4:])\n",
    "terms=['gust','mmm','TEST','T/10','pril','mber','ulio','bia.','crop']\n",
    "for i in terms:\n",
    "    data.loc[data['Harvest.Year']==i,'Harvest.Year']=data[data['Harvest.Year']==i]['Grading.Date'].map(lambda x: x[-4:])\n",
    "\n",
    "#處理Quakers遺失值\n",
    "data.loc[366,'Quakers']=0\n",
    "\n",
    "#處理altitude_mean_meters錯誤值、用同一國家平均值填補遺失值\n",
    "data.loc[data['altitude_mean_meters']>8000,'altitude_mean_meters']=data[data['altitude_mean_meters']>8000].altitude_mean_meters.map(lambda x:x/100)\n",
    "data.loc[data['Country.of.Origin']=='Other','altitude_mean_meters']=data.altitude_mean_meters.mean()\n",
    "country_altitude_mean=data.groupby('Country.of.Origin').altitude_mean_meters.mean().to_dict()\n",
    "for i in data[data['altitude_mean_meters'].isnull()].index:\n",
    "    data.loc[i,'altitude_mean_meters']=country_altitude_mean[data.loc[i,'Country.of.Origin']]\n",
    "\n",
    "#依altitude_mean_meters分類高度\n",
    "for i in range(len(data)):\n",
    "    if data.loc[i,'altitude_mean_meters']>3000:\n",
    "        data.loc[i,'Altitude_classfy']='3000+'\n",
    "    elif data.loc[i,'altitude_mean_meters']>2000:\n",
    "        data.loc[i,'Altitude_classfy']='2001-3000'\n",
    "    elif data.loc[i,'altitude_mean_meters']>1000:\n",
    "        data.loc[i,'Altitude_classfy']='1001-2000' \n",
    "    else:\n",
    "        data.loc[i,'Altitude_classfy']='0-1000' \n",
    "\n",
    "#移除無用欄位       \n",
    "data.drop(columns=['Altitude', 'altitude_low_meters', 'altitude_high_meters','unit_of_measurement'],inplace=True)"
   ]
  },
  {
   "cell_type": "markdown",
   "id": "3f4728f3",
   "metadata": {},
   "source": [
    "#  輸出CSV檔"
   ]
  },
  {
   "cell_type": "code",
   "execution_count": 16,
   "id": "bcc83801",
   "metadata": {},
   "outputs": [
    {
     "name": "stdout",
     "output_type": "stream",
     "text": [
      "(1339, 41)\n"
     ]
    }
   ],
   "source": [
    "#輸出資料\n",
    "data.to_csv('data.csv',index=False)\n",
    "print(data.shape)"
   ]
  }
 ],
 "metadata": {
  "kernelspec": {
   "display_name": "Python 3 (ipykernel)",
   "language": "python",
   "name": "python3"
  },
  "language_info": {
   "codemirror_mode": {
    "name": "ipython",
    "version": 3
   },
   "file_extension": ".py",
   "mimetype": "text/x-python",
   "name": "python",
   "nbconvert_exporter": "python",
   "pygments_lexer": "ipython3",
   "version": "3.10.2"
  }
 },
 "nbformat": 4,
 "nbformat_minor": 5
}
